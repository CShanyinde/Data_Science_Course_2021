{
 "cells": [
  {
   "cell_type": "markdown",
   "metadata": {},
   "source": [
    "**Lists**"
   ]
  },
  {
   "cell_type": "code",
   "execution_count": 1,
   "metadata": {},
   "outputs": [
    {
     "name": "stdout",
     "output_type": "stream",
     "text": [
      "[1, 2, 3, 4, 5, 6, 7, 8]\n"
     ]
    }
   ],
   "source": [
    "my_1d_list=[1,2,3,4,5,6,7,8]\n",
    "print(my_1d_list)"
   ]
  },
  {
   "cell_type": "code",
   "execution_count": 2,
   "metadata": {},
   "outputs": [
    {
     "name": "stdout",
     "output_type": "stream",
     "text": [
      "My list at value  0 is:  1\n",
      "My list at value  1 is:  2\n",
      "My list at value  2 is:  3\n",
      "My list at value  3 is:  4\n",
      "My list at value  4 is:  5\n",
      "My list at value  5 is:  6\n",
      "My list at value  6 is:  7\n",
      "My list at value  7 is:  8\n"
     ]
    }
   ],
   "source": [
    "for i in range(len(my_1d_list)):\n",
    "    print(\"My list at value \", i, \"is: \", my_1d_list[i])"
   ]
  },
  {
   "cell_type": "code",
   "execution_count": 3,
   "metadata": {},
   "outputs": [
    {
     "name": "stdout",
     "output_type": "stream",
     "text": [
      "3\n",
      "[3, 4, 5]\n",
      "8\n"
     ]
    }
   ],
   "source": [
    "print(my_1d_list[2]) #print value in position 2\n",
    "print(my_1d_list[2:5]) #print values in position 2 to 5\n",
    "print(len(my_1d_list)) # print length of 1D list"
   ]
  },
  {
   "cell_type": "markdown",
   "metadata": {},
   "source": [
    "**2D Lists**"
   ]
  },
  {
   "cell_type": "code",
   "execution_count": 4,
   "metadata": {},
   "outputs": [
    {
     "name": "stdout",
     "output_type": "stream",
     "text": [
      "[[1, 2, 3, 4], [5, 6, 7, 8], [9, 10, 11, 12]]\n"
     ]
    }
   ],
   "source": [
    "my_2d_list=[[1,2,3,4],[5,6,7,8],[9,10,11,12]]\n",
    "print(my_2d_list)"
   ]
  },
  {
   "cell_type": "markdown",
   "metadata": {},
   "source": [
    "**String Handling**"
   ]
  },
  {
   "cell_type": "code",
   "execution_count": 6,
   "metadata": {},
   "outputs": [
    {
     "name": "stdout",
     "output_type": "stream",
     "text": [
      "a\n",
      "ama\n",
      "5\n",
      "My character at value  0 is:  c\n",
      "My character at value  1 is:  h\n",
      "My character at value  2 is:  a\n",
      "My character at value  3 is:  m\n",
      "My character at value  4 is:  a\n"
     ]
    }
   ],
   "source": [
    "text=(\"chama\")\n",
    "print(text[2])\n",
    "print(text[2:5])\n",
    "print(len(text))\n",
    "for each_char in range (len(text)):\n",
    "    print(\"My character at value \", each_char, \"is: \", text[each_char])"
   ]
  },
  {
   "cell_type": "markdown",
   "metadata": {},
   "source": [
    "**File Handling**"
   ]
  },
  {
   "cell_type": "code",
   "execution_count": 9,
   "metadata": {},
   "outputs": [],
   "source": [
    "my_file=open(\"my_new_text_file.txt\", \"w\")\n",
    "for i in range(10):\n",
    "    my_file.write(str(i))\n",
    "    my_file.write(\"\\n\")\n",
    "my_file.close()"
   ]
  },
  {
   "cell_type": "code",
   "execution_count": 10,
   "metadata": {},
   "outputs": [],
   "source": [
    "with open (\"my_new_text_file.txt\", \"r\") as myfile:\n",
    "    data = myfile.read().replace('\\n', ',')\n",
    "myfile.close()"
   ]
  },
  {
   "cell_type": "markdown",
   "metadata": {},
   "source": [
    "**Reading from a file**"
   ]
  },
  {
   "cell_type": "code",
   "execution_count": 13,
   "metadata": {},
   "outputs": [
    {
     "name": "stdout",
     "output_type": "stream",
     "text": [
      "0,1,2,3,4,5,6,7,8,9,\n"
     ]
    }
   ],
   "source": [
    "print(data)"
   ]
  },
  {
   "cell_type": "markdown",
   "metadata": {},
   "source": [
    "**Appending to a file**"
   ]
  },
  {
   "cell_type": "code",
   "execution_count": 12,
   "metadata": {},
   "outputs": [],
   "source": [
    "my_file = open(\"my_new_text_file.txt\", \"a\")\n",
    "my_file.write(\"Where has it gone?\")\n",
    "my_file.close()"
   ]
  },
  {
   "cell_type": "code",
   "execution_count": null,
   "metadata": {},
   "outputs": [],
   "source": []
  }
 ],
 "metadata": {
  "kernelspec": {
   "display_name": "Python 3",
   "language": "python",
   "name": "python3"
  },
  "language_info": {
   "codemirror_mode": {
    "name": "ipython",
    "version": 3
   },
   "file_extension": ".py",
   "mimetype": "text/x-python",
   "name": "python",
   "nbconvert_exporter": "python",
   "pygments_lexer": "ipython3",
   "version": "3.8.5"
  }
 },
 "nbformat": 4,
 "nbformat_minor": 4
}
