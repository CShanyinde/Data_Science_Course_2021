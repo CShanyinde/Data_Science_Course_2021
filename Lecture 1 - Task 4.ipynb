{
 "cells": [
  {
   "cell_type": "code",
   "execution_count": 1,
   "metadata": {},
   "outputs": [
    {
     "name": "stdout",
     "output_type": "stream",
     "text": [
      "What is the original cost of the motorbike? £2000\n",
      "Enter first year: 2021\n",
      "year =  2021 , value = £ 2000\n",
      "year =  2022 , value = £ 1800\n",
      "year =  2023 , value = £ 1620\n",
      "year =  2024 , value = £ 1458\n",
      "year =  2025 , value = £ 1312\n",
      "year =  2026 , value = £ 1180\n",
      "year =  2027 , value = £ 1062\n"
     ]
    }
   ],
   "source": [
    "i=int(input(\"What is the original cost of the motorbike? £\"))\n",
    "y=int(input(\"Enter first year: \")) \n",
    "while i>1000:\n",
    "    print (\"year = \", y, \", value = £\",int(i))\n",
    "    i*=0.9\n",
    "    y+=1"
   ]
  },
  {
   "cell_type": "code",
   "execution_count": null,
   "metadata": {},
   "outputs": [],
   "source": []
  }
 ],
 "metadata": {
  "kernelspec": {
   "display_name": "Python 3",
   "language": "python",
   "name": "python3"
  },
  "language_info": {
   "codemirror_mode": {
    "name": "ipython",
    "version": 3
   },
   "file_extension": ".py",
   "mimetype": "text/x-python",
   "name": "python",
   "nbconvert_exporter": "python",
   "pygments_lexer": "ipython3",
   "version": "3.8.5"
  }
 },
 "nbformat": 4,
 "nbformat_minor": 4
}
