{
 "cells": [
  {
   "cell_type": "code",
   "execution_count": 1,
   "metadata": {},
   "outputs": [
    {
     "name": "stdout",
     "output_type": "stream",
     "text": [
      "Hi, pick a number between 1 and 100. 45\n",
      "Why can't you explain puns to kleptomaniacs?... They always take things literally.\n"
     ]
    }
   ],
   "source": [
    "fav_numb=int(input(\"Hi, pick a number between 1 and 100. \"))\n",
    "if fav_numb<=20:\n",
    "    print(\"Did you hear about the claustrophobic astronaut?... He just needed a little space.\")\n",
    "elif 20<fav_numb<=40:\n",
    "    print(\"Why don't scientists trust atoms?...Because they make up everything.\")\n",
    "elif 40<fav_numb<=60:\n",
    "    print(\"Why can't you explain puns to kleptomaniacs?... They always take things literally.\")\n",
    "elif 60<fav_numb<=80:\n",
    "    print(\"What do you call a fake noodle?... An IMPASTA!\")\n",
    "else:\n",
    "    print(\"Why did the frog take the bus to work today?... Because his car got TOAD away\")"
   ]
  },
  {
   "cell_type": "code",
   "execution_count": null,
   "metadata": {},
   "outputs": [],
   "source": []
  }
 ],
 "metadata": {
  "kernelspec": {
   "display_name": "Python 3",
   "language": "python",
   "name": "python3"
  },
  "language_info": {
   "codemirror_mode": {
    "name": "ipython",
    "version": 3
   },
   "file_extension": ".py",
   "mimetype": "text/x-python",
   "name": "python",
   "nbconvert_exporter": "python",
   "pygments_lexer": "ipython3",
   "version": "3.8.5"
  }
 },
 "nbformat": 4,
 "nbformat_minor": 4
}
