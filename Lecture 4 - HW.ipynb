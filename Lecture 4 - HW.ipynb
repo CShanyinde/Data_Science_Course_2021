{
 "cells": [
  {
   "cell_type": "markdown",
   "metadata": {},
   "source": [
    "**Lecture 4 - Holiday Destinations Practical**"
   ]
  },
  {
   "cell_type": "code",
   "execution_count": 1,
   "metadata": {},
   "outputs": [],
   "source": [
    "import pandas as pd"
   ]
  },
  {
   "cell_type": "code",
   "execution_count": 3,
   "metadata": {},
   "outputs": [],
   "source": [
    "#reading the file\n",
    "data=pd.read_csv(\"holiday_destinations.csv\")\n"
   ]
  },
  {
   "cell_type": "code",
   "execution_count": 4,
   "metadata": {},
   "outputs": [
    {
     "data": {
      "text/plain": [
       "(15, 6)"
      ]
     },
     "execution_count": 4,
     "metadata": {},
     "output_type": "execute_result"
    }
   ],
   "source": [
    "# 1. How many rows and columns are there in your file?\n",
    "\n",
    "data.shape"
   ]
  },
  {
   "cell_type": "code",
   "execution_count": 75,
   "metadata": {},
   "outputs": [
    {
     "data": {
      "text/html": [
       "<div>\n",
       "<style scoped>\n",
       "    .dataframe tbody tr th:only-of-type {\n",
       "        vertical-align: middle;\n",
       "    }\n",
       "\n",
       "    .dataframe tbody tr th {\n",
       "        vertical-align: top;\n",
       "    }\n",
       "\n",
       "    .dataframe thead th {\n",
       "        text-align: right;\n",
       "    }\n",
       "</style>\n",
       "<table border=\"1\" class=\"dataframe\">\n",
       "  <thead>\n",
       "    <tr style=\"text-align: right;\">\n",
       "      <th></th>\n",
       "      <th>INDEX</th>\n",
       "      <th>DESTINATIONS</th>\n",
       "      <th>FEEDBACK_SCORE</th>\n",
       "      <th>AV_STAR_RATING</th>\n",
       "      <th>No_ALL_INCLUSIVE</th>\n",
       "      <th>MOST_VISITED_CITY</th>\n",
       "    </tr>\n",
       "  </thead>\n",
       "  <tbody>\n",
       "    <tr>\n",
       "      <th>3</th>\n",
       "      <td>TH</td>\n",
       "      <td>Thailand</td>\n",
       "      <td>8</td>\n",
       "      <td>4.0</td>\n",
       "      <td>12</td>\n",
       "      <td>Phuket</td>\n",
       "    </tr>\n",
       "    <tr>\n",
       "      <th>4</th>\n",
       "      <td>UAE</td>\n",
       "      <td>UAE</td>\n",
       "      <td>9</td>\n",
       "      <td>4.5</td>\n",
       "      <td>14</td>\n",
       "      <td>Dubai</td>\n",
       "    </tr>\n",
       "    <tr>\n",
       "      <th>5</th>\n",
       "      <td>TU</td>\n",
       "      <td>Turkey</td>\n",
       "      <td>7</td>\n",
       "      <td>3.5</td>\n",
       "      <td>11</td>\n",
       "      <td>Istanbul</td>\n",
       "    </tr>\n",
       "    <tr>\n",
       "      <th>6</th>\n",
       "      <td>IT</td>\n",
       "      <td>Italy</td>\n",
       "      <td>7</td>\n",
       "      <td>3.5</td>\n",
       "      <td>11</td>\n",
       "      <td>Rome</td>\n",
       "    </tr>\n",
       "    <tr>\n",
       "      <th>7</th>\n",
       "      <td>FR</td>\n",
       "      <td>France</td>\n",
       "      <td>5</td>\n",
       "      <td>2.5</td>\n",
       "      <td>8</td>\n",
       "      <td>Paris</td>\n",
       "    </tr>\n",
       "  </tbody>\n",
       "</table>\n",
       "</div>"
      ],
      "text/plain": [
       "  INDEX DESTINATIONS  FEEDBACK_SCORE  AV_STAR_RATING  No_ALL_INCLUSIVE  \\\n",
       "3    TH     Thailand               8             4.0                12   \n",
       "4   UAE          UAE               9             4.5                14   \n",
       "5    TU       Turkey               7             3.5                11   \n",
       "6    IT        Italy               7             3.5                11   \n",
       "7    FR       France               5             2.5                 8   \n",
       "\n",
       "  MOST_VISITED_CITY  \n",
       "3            Phuket  \n",
       "4             Dubai  \n",
       "5          Istanbul  \n",
       "6              Rome  \n",
       "7             Paris  "
      ]
     },
     "execution_count": 75,
     "metadata": {},
     "output_type": "execute_result"
    }
   ],
   "source": [
    "#2. Print row 3-8 (using iloc/loc)\n",
    "\n",
    "data.iloc[3:8]"
   ]
  },
  {
   "cell_type": "code",
   "execution_count": 80,
   "metadata": {},
   "outputs": [
    {
     "name": "stdout",
     "output_type": "stream",
     "text": [
      "Mean number of all-inclusive hotels across all destinations =  8.333333333333334\n"
     ]
    }
   ],
   "source": [
    "#3. Find the mean number of all-inclusive hotels across all destinations\n",
    "\n",
    "average=data[\"No_ALL_INCLUSIVE\"].mean()\n",
    "print(\"Mean number of all-inclusive hotels across all destinations = \", average)"
   ]
  },
  {
   "cell_type": "code",
   "execution_count": 39,
   "metadata": {},
   "outputs": [
    {
     "data": {
      "text/html": [
       "<div>\n",
       "<style scoped>\n",
       "    .dataframe tbody tr th:only-of-type {\n",
       "        vertical-align: middle;\n",
       "    }\n",
       "\n",
       "    .dataframe tbody tr th {\n",
       "        vertical-align: top;\n",
       "    }\n",
       "\n",
       "    .dataframe thead th {\n",
       "        text-align: right;\n",
       "    }\n",
       "</style>\n",
       "<table border=\"1\" class=\"dataframe\">\n",
       "  <thead>\n",
       "    <tr style=\"text-align: right;\">\n",
       "      <th></th>\n",
       "      <th>INDEX</th>\n",
       "      <th>DESTINATIONS</th>\n",
       "      <th>FEEDBACK_SCORE</th>\n",
       "      <th>AV_STAR_RATING</th>\n",
       "      <th>No_ALL_INCLUSIVE</th>\n",
       "      <th>MOST_VISITED_CITY</th>\n",
       "    </tr>\n",
       "  </thead>\n",
       "  <tbody>\n",
       "    <tr>\n",
       "      <th>1</th>\n",
       "      <td>CH</td>\n",
       "      <td>China</td>\n",
       "      <td>1</td>\n",
       "      <td>1.5</td>\n",
       "      <td>2</td>\n",
       "      <td>Shanghai</td>\n",
       "    </tr>\n",
       "    <tr>\n",
       "      <th>11</th>\n",
       "      <td>BR</td>\n",
       "      <td>Brazil</td>\n",
       "      <td>1</td>\n",
       "      <td>2.0</td>\n",
       "      <td>2</td>\n",
       "      <td>Sao Paulo</td>\n",
       "    </tr>\n",
       "  </tbody>\n",
       "</table>\n",
       "</div>"
      ],
      "text/plain": [
       "   INDEX DESTINATIONS  FEEDBACK_SCORE  AV_STAR_RATING  No_ALL_INCLUSIVE  \\\n",
       "1     CH        China               1             1.5                 2   \n",
       "11    BR       Brazil               1             2.0                 2   \n",
       "\n",
       "   MOST_VISITED_CITY  \n",
       "1           Shanghai  \n",
       "11         Sao Paulo  "
      ]
     },
     "execution_count": 39,
     "metadata": {},
     "output_type": "execute_result"
    }
   ],
   "source": [
    "#4. Find the lowest scoring destination\n",
    "\n",
    "lowest_score=data[\"FEEDBACK_SCORE\"].min()\n",
    "data[(data.FEEDBACK_SCORE==lowest_score)]\n"
   ]
  },
  {
   "cell_type": "code",
   "execution_count": 40,
   "metadata": {},
   "outputs": [
    {
     "data": {
      "text/html": [
       "<div>\n",
       "<style scoped>\n",
       "    .dataframe tbody tr th:only-of-type {\n",
       "        vertical-align: middle;\n",
       "    }\n",
       "\n",
       "    .dataframe tbody tr th {\n",
       "        vertical-align: top;\n",
       "    }\n",
       "\n",
       "    .dataframe thead th {\n",
       "        text-align: right;\n",
       "    }\n",
       "</style>\n",
       "<table border=\"1\" class=\"dataframe\">\n",
       "  <thead>\n",
       "    <tr style=\"text-align: right;\">\n",
       "      <th></th>\n",
       "      <th>INDEX</th>\n",
       "      <th>DESTINATIONS</th>\n",
       "      <th>FEEDBACK_SCORE</th>\n",
       "      <th>AV_STAR_RATING</th>\n",
       "      <th>No_ALL_INCLUSIVE</th>\n",
       "      <th>MOST_VISITED_CITY</th>\n",
       "    </tr>\n",
       "  </thead>\n",
       "  <tbody>\n",
       "    <tr>\n",
       "      <th>4</th>\n",
       "      <td>UAE</td>\n",
       "      <td>UAE</td>\n",
       "      <td>9</td>\n",
       "      <td>4.5</td>\n",
       "      <td>14</td>\n",
       "      <td>Dubai</td>\n",
       "    </tr>\n",
       "  </tbody>\n",
       "</table>\n",
       "</div>"
      ],
      "text/plain": [
       "  INDEX DESTINATIONS  FEEDBACK_SCORE  AV_STAR_RATING  No_ALL_INCLUSIVE  \\\n",
       "4   UAE          UAE               9             4.5                14   \n",
       "\n",
       "  MOST_VISITED_CITY  \n",
       "4             Dubai  "
      ]
     },
     "execution_count": 40,
     "metadata": {},
     "output_type": "execute_result"
    }
   ],
   "source": [
    "#5. Find the highest scoring destination\n",
    "\n",
    "highest_score=data[\"FEEDBACK_SCORE\"].max()\n",
    "data[(data.FEEDBACK_SCORE==highest_score)]\n"
   ]
  },
  {
   "cell_type": "code",
   "execution_count": 41,
   "metadata": {},
   "outputs": [
    {
     "data": {
      "text/html": [
       "<div>\n",
       "<style scoped>\n",
       "    .dataframe tbody tr th:only-of-type {\n",
       "        vertical-align: middle;\n",
       "    }\n",
       "\n",
       "    .dataframe tbody tr th {\n",
       "        vertical-align: top;\n",
       "    }\n",
       "\n",
       "    .dataframe thead th {\n",
       "        text-align: right;\n",
       "    }\n",
       "</style>\n",
       "<table border=\"1\" class=\"dataframe\">\n",
       "  <thead>\n",
       "    <tr style=\"text-align: right;\">\n",
       "      <th></th>\n",
       "      <th>INDEX</th>\n",
       "      <th>DESTINATIONS</th>\n",
       "      <th>FEEDBACK_SCORE</th>\n",
       "      <th>AV_STAR_RATING</th>\n",
       "      <th>No_ALL_INCLUSIVE</th>\n",
       "      <th>MOST_VISITED_CITY</th>\n",
       "    </tr>\n",
       "  </thead>\n",
       "  <tbody>\n",
       "    <tr>\n",
       "      <th>0</th>\n",
       "      <td>JP</td>\n",
       "      <td>Japan</td>\n",
       "      <td>8</td>\n",
       "      <td>4.0</td>\n",
       "      <td>12</td>\n",
       "      <td>Kyoto</td>\n",
       "    </tr>\n",
       "    <tr>\n",
       "      <th>3</th>\n",
       "      <td>TH</td>\n",
       "      <td>Thailand</td>\n",
       "      <td>8</td>\n",
       "      <td>4.0</td>\n",
       "      <td>12</td>\n",
       "      <td>Phuket</td>\n",
       "    </tr>\n",
       "    <tr>\n",
       "      <th>4</th>\n",
       "      <td>UAE</td>\n",
       "      <td>UAE</td>\n",
       "      <td>9</td>\n",
       "      <td>4.5</td>\n",
       "      <td>14</td>\n",
       "      <td>Dubai</td>\n",
       "    </tr>\n",
       "    <tr>\n",
       "      <th>5</th>\n",
       "      <td>TU</td>\n",
       "      <td>Turkey</td>\n",
       "      <td>7</td>\n",
       "      <td>3.5</td>\n",
       "      <td>11</td>\n",
       "      <td>Istanbul</td>\n",
       "    </tr>\n",
       "    <tr>\n",
       "      <th>6</th>\n",
       "      <td>IT</td>\n",
       "      <td>Italy</td>\n",
       "      <td>7</td>\n",
       "      <td>3.5</td>\n",
       "      <td>11</td>\n",
       "      <td>Rome</td>\n",
       "    </tr>\n",
       "    <tr>\n",
       "      <th>12</th>\n",
       "      <td>BA</td>\n",
       "      <td>Bahamas</td>\n",
       "      <td>8</td>\n",
       "      <td>4.0</td>\n",
       "      <td>12</td>\n",
       "      <td>Nassau</td>\n",
       "    </tr>\n",
       "  </tbody>\n",
       "</table>\n",
       "</div>"
      ],
      "text/plain": [
       "   INDEX DESTINATIONS  FEEDBACK_SCORE  AV_STAR_RATING  No_ALL_INCLUSIVE  \\\n",
       "0     JP        Japan               8             4.0                12   \n",
       "3     TH     Thailand               8             4.0                12   \n",
       "4    UAE          UAE               9             4.5                14   \n",
       "5     TU       Turkey               7             3.5                11   \n",
       "6     IT        Italy               7             3.5                11   \n",
       "12    BA      Bahamas               8             4.0                12   \n",
       "\n",
       "   MOST_VISITED_CITY  \n",
       "0              Kyoto  \n",
       "3             Phuket  \n",
       "4              Dubai  \n",
       "5           Istanbul  \n",
       "6               Rome  \n",
       "12            Nassau  "
      ]
     },
     "execution_count": 41,
     "metadata": {},
     "output_type": "execute_result"
    }
   ],
   "source": [
    "#6. Find all the destinations where there are more than 9 all-inclusive hotels\n",
    "\n",
    "data[(data.No_ALL_INCLUSIVE>9)]\n"
   ]
  },
  {
   "cell_type": "code",
   "execution_count": 43,
   "metadata": {},
   "outputs": [
    {
     "data": {
      "text/html": [
       "<div>\n",
       "<style scoped>\n",
       "    .dataframe tbody tr th:only-of-type {\n",
       "        vertical-align: middle;\n",
       "    }\n",
       "\n",
       "    .dataframe tbody tr th {\n",
       "        vertical-align: top;\n",
       "    }\n",
       "\n",
       "    .dataframe thead th {\n",
       "        text-align: right;\n",
       "    }\n",
       "</style>\n",
       "<table border=\"1\" class=\"dataframe\">\n",
       "  <thead>\n",
       "    <tr style=\"text-align: right;\">\n",
       "      <th></th>\n",
       "      <th>INDEX</th>\n",
       "      <th>DESTINATIONS</th>\n",
       "      <th>FEEDBACK_SCORE</th>\n",
       "      <th>AV_STAR_RATING</th>\n",
       "      <th>No_ALL_INCLUSIVE</th>\n",
       "      <th>MOST_VISITED_CITY</th>\n",
       "    </tr>\n",
       "  </thead>\n",
       "  <tbody>\n",
       "    <tr>\n",
       "      <th>4</th>\n",
       "      <td>UAE</td>\n",
       "      <td>UAE</td>\n",
       "      <td>9</td>\n",
       "      <td>4.5</td>\n",
       "      <td>14</td>\n",
       "      <td>Dubai</td>\n",
       "    </tr>\n",
       "  </tbody>\n",
       "</table>\n",
       "</div>"
      ],
      "text/plain": [
       "  INDEX DESTINATIONS  FEEDBACK_SCORE  AV_STAR_RATING  No_ALL_INCLUSIVE  \\\n",
       "4   UAE          UAE               9             4.5                14   \n",
       "\n",
       "  MOST_VISITED_CITY  \n",
       "4             Dubai  "
      ]
     },
     "execution_count": 43,
     "metadata": {},
     "output_type": "execute_result"
    }
   ],
   "source": [
    "#7. Filter the data by destination and score above 8\n",
    "\n",
    "data[(data.FEEDBACK_SCORE>8)]"
   ]
  },
  {
   "cell_type": "code",
   "execution_count": 46,
   "metadata": {},
   "outputs": [
    {
     "data": {
      "text/html": [
       "<div>\n",
       "<style scoped>\n",
       "    .dataframe tbody tr th:only-of-type {\n",
       "        vertical-align: middle;\n",
       "    }\n",
       "\n",
       "    .dataframe tbody tr th {\n",
       "        vertical-align: top;\n",
       "    }\n",
       "\n",
       "    .dataframe thead th {\n",
       "        text-align: right;\n",
       "    }\n",
       "</style>\n",
       "<table border=\"1\" class=\"dataframe\">\n",
       "  <thead>\n",
       "    <tr style=\"text-align: right;\">\n",
       "      <th></th>\n",
       "      <th>INDEX</th>\n",
       "      <th>DESTINATIONS</th>\n",
       "      <th>FEEDBACK_SCORE</th>\n",
       "      <th>AV_STAR_RATING</th>\n",
       "      <th>No_ALL_INCLUSIVE</th>\n",
       "      <th>MOST_VISITED_CITY</th>\n",
       "    </tr>\n",
       "  </thead>\n",
       "  <tbody>\n",
       "    <tr>\n",
       "      <th>1</th>\n",
       "      <td>CH</td>\n",
       "      <td>China</td>\n",
       "      <td>1</td>\n",
       "      <td>1.5</td>\n",
       "      <td>2</td>\n",
       "      <td>Shanghai</td>\n",
       "    </tr>\n",
       "    <tr>\n",
       "      <th>11</th>\n",
       "      <td>BR</td>\n",
       "      <td>Brazil</td>\n",
       "      <td>1</td>\n",
       "      <td>2.0</td>\n",
       "      <td>2</td>\n",
       "      <td>Sao Paulo</td>\n",
       "    </tr>\n",
       "  </tbody>\n",
       "</table>\n",
       "</div>"
      ],
      "text/plain": [
       "   INDEX DESTINATIONS  FEEDBACK_SCORE  AV_STAR_RATING  No_ALL_INCLUSIVE  \\\n",
       "1     CH        China               1             1.5                 2   \n",
       "11    BR       Brazil               1             2.0                 2   \n",
       "\n",
       "   MOST_VISITED_CITY  \n",
       "1           Shanghai  \n",
       "11         Sao Paulo  "
      ]
     },
     "execution_count": 46,
     "metadata": {},
     "output_type": "execute_result"
    }
   ],
   "source": [
    "#8. Filter the data by destination and score below 2\n",
    "\n",
    "data[(data.FEEDBACK_SCORE<2)]"
   ]
  },
  {
   "cell_type": "code",
   "execution_count": 70,
   "metadata": {},
   "outputs": [
    {
     "data": {
      "text/html": [
       "<div>\n",
       "<style scoped>\n",
       "    .dataframe tbody tr th:only-of-type {\n",
       "        vertical-align: middle;\n",
       "    }\n",
       "\n",
       "    .dataframe tbody tr th {\n",
       "        vertical-align: top;\n",
       "    }\n",
       "\n",
       "    .dataframe thead th {\n",
       "        text-align: right;\n",
       "    }\n",
       "</style>\n",
       "<table border=\"1\" class=\"dataframe\">\n",
       "  <thead>\n",
       "    <tr style=\"text-align: right;\">\n",
       "      <th></th>\n",
       "      <th>FEEDBACK_SCORE</th>\n",
       "      <th>AV_STAR_RATING</th>\n",
       "      <th>No_ALL_INCLUSIVE</th>\n",
       "    </tr>\n",
       "  </thead>\n",
       "  <tbody>\n",
       "    <tr>\n",
       "      <th>FEEDBACK_SCORE</th>\n",
       "      <td>1.00</td>\n",
       "      <td>0.95</td>\n",
       "      <td>1.00</td>\n",
       "    </tr>\n",
       "    <tr>\n",
       "      <th>AV_STAR_RATING</th>\n",
       "      <td>0.95</td>\n",
       "      <td>1.00</td>\n",
       "      <td>0.95</td>\n",
       "    </tr>\n",
       "    <tr>\n",
       "      <th>No_ALL_INCLUSIVE</th>\n",
       "      <td>1.00</td>\n",
       "      <td>0.95</td>\n",
       "      <td>1.00</td>\n",
       "    </tr>\n",
       "  </tbody>\n",
       "</table>\n",
       "</div>"
      ],
      "text/plain": [
       "                  FEEDBACK_SCORE  AV_STAR_RATING  No_ALL_INCLUSIVE\n",
       "FEEDBACK_SCORE              1.00            0.95              1.00\n",
       "AV_STAR_RATING              0.95            1.00              0.95\n",
       "No_ALL_INCLUSIVE            1.00            0.95              1.00"
      ]
     },
     "execution_count": 70,
     "metadata": {},
     "output_type": "execute_result"
    }
   ],
   "source": [
    "#9. Is there a correlation between number of all-inclusive hotels and score?\n",
    "\n",
    "data.corr().round(decimals=2)"
   ]
  },
  {
   "cell_type": "markdown",
   "metadata": {},
   "source": [
    "**Yes, there is a strong correlation between number of all inclusive hotels and score.**"
   ]
  },
  {
   "cell_type": "markdown",
   "metadata": {},
   "source": [
    "*Note - \n",
    "The correlation coefficient is a statistical measure of the strength of the relationship between the relative movements of two variables. The values range between -1.0 and 1.0. A calculated number greater than 1.0 or less than -1.0 means that there was an error in the correlation measurement. A correlation of -1.0 shows a perfect negative correlation, while a correlation of 1.0 shows a perfect positive correlation. A correlation of 0.0 shows no linear relationship between the movement of the two variables."
   ]
  },
  {
   "cell_type": "code",
   "execution_count": 74,
   "metadata": {},
   "outputs": [
    {
     "data": {
      "text/plain": [
       "<AxesSubplot:xlabel='DESTINATIONS'>"
      ]
     },
     "execution_count": 74,
     "metadata": {},
     "output_type": "execute_result"
    },
    {
     "data": {
      "image/png": "[encoded data removed]",
      "text/plain": [
       "<Figure size 432x288 with 1 Axes>"
      ]
     },
     "metadata": {
      "needs_background": "light"
     },
     "output_type": "display_data"
    }
   ],
   "source": [
    "#10. Create a data visualisation diagram to show destination and highest scores\n",
    "\n",
    "data.plot.bar(x='DESTINATIONS', y='FEEDBACK_SCORE')"
   ]
  },
  {
   "cell_type": "code",
   "execution_count": null,
   "metadata": {},
   "outputs": [],
   "source": []
  }
 ],
 "metadata": {
  "kernelspec": {
   "display_name": "Python 3",
   "language": "python",
   "name": "python3"
  },
  "language_info": {
   "codemirror_mode": {
    "name": "ipython",
    "version": 3
   },
   "file_extension": ".py",
   "mimetype": "text/x-python",
   "name": "python",
   "nbconvert_exporter": "python",
   "pygments_lexer": "ipython3",
   "version": "3.8.5"
  }
 },
 "nbformat": 4,
 "nbformat_minor": 4
}
