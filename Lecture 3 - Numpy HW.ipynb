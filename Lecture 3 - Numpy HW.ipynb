{
 "cells": [
  {
   "cell_type": "markdown",
   "metadata": {},
   "source": [
    "# Lecture 3 - Numpy for Data Analysis Home Learning"
   ]
  },
  {
   "cell_type": "code",
   "execution_count": 1,
   "metadata": {},
   "outputs": [],
   "source": [
    "import numpy as np"
   ]
  },
  {
   "cell_type": "markdown",
   "metadata": {},
   "source": [
    "**Task 1 - Create a 1D array of numbers from 0 to 9**"
   ]
  },
  {
   "cell_type": "code",
   "execution_count": 2,
   "metadata": {},
   "outputs": [
    {
     "name": "stdout",
     "output_type": "stream",
     "text": [
      "[0 1 2 3 4 5 6 7 8 9]\n"
     ]
    }
   ],
   "source": [
    "One_D=np.arange(10)\n",
    "print(One_D)"
   ]
  },
  {
   "cell_type": "markdown",
   "metadata": {},
   "source": [
    "**Task 2 - Create a 3×3 NumPy array of all Boolean value Trues**"
   ]
  },
  {
   "cell_type": "code",
   "execution_count": 117,
   "metadata": {},
   "outputs": [
    {
     "name": "stdout",
     "output_type": "stream",
     "text": [
      "[[ True  True  True]\n",
      " [ True  True  True]\n",
      " [ True  True  True]]\n"
     ]
    }
   ],
   "source": [
    "Trues=np.ones((3,3),dtype=bool)\n",
    "print(Trues)"
   ]
  },
  {
   "cell_type": "markdown",
   "metadata": {},
   "source": [
    "**Task 3 - Extract all odd numbers from array of 1 10**"
   ]
  },
  {
   "cell_type": "code",
   "execution_count": 23,
   "metadata": {},
   "outputs": [
    {
     "name": "stdout",
     "output_type": "stream",
     "text": [
      "Original array:  [ 1  2  3  4  5  6  7  8  9 10]\n",
      "Odd array:  [1 3 5 7 9]\n",
      "Even array:  [ 2  4  6  8 10]\n"
     ]
    }
   ],
   "source": [
    "array=np.arange(1,11)\n",
    "array_odd=np.arange(1,11,2)\n",
    "array_even=np.arange(2,11,2)\n",
    "print(\"Original array: \", array)\n",
    "print(\"Odd array: \",array_odd)\n",
    "print(\"Even array: \",array_even)"
   ]
  },
  {
   "cell_type": "markdown",
   "metadata": {},
   "source": [
    "**Task 4 - Replace all odd numbers in an array of 1 to 10 with the value -1**"
   ]
  },
  {
   "cell_type": "code",
   "execution_count": 79,
   "metadata": {},
   "outputs": [
    {
     "name": "stdout",
     "output_type": "stream",
     "text": [
      "[ 1  2  3  4  5  6  7  8  9 10]\n",
      "[-1  2 -1  4 -1  6 -1  8 -1 10]\n"
     ]
    }
   ],
   "source": [
    "array=np.arange(1,11)\n",
    "print(array)\n",
    "array2=(array%2==1)\n",
    "array[array2]=-1\n",
    "print(array)\n"
   ]
  },
  {
   "cell_type": "markdown",
   "metadata": {},
   "source": [
    "**Task 5 - Convert a 1D array to a 2D array with 2 rows**"
   ]
  },
  {
   "cell_type": "code",
   "execution_count": 41,
   "metadata": {},
   "outputs": [
    {
     "name": "stdout",
     "output_type": "stream",
     "text": [
      "1D Array:  [ 1  2  3  4  5  6  7  8  9 10 11 12 13 14 15 16 17 18 19 20]\n",
      "2D Array: \n",
      "[[ 1  2  3  4  5  6  7  8  9 10]\n",
      " [11 12 13 14 15 16 17 18 19 20]]\n"
     ]
    }
   ],
   "source": [
    "One_D=np.arange(1,21)\n",
    "Two_D=One_D.reshape(2,10)\n",
    "print(\"1D Array: \", One_D)\n",
    "print(\"2D Array: \")\n",
    "print(Two_D)"
   ]
  },
  {
   "cell_type": "markdown",
   "metadata": {},
   "source": [
    "**Task 6 - Create two arrays a and b, stack these two arrays vertically use the\n",
    "np.dot and np.sum to calculate totals**"
   ]
  },
  {
   "cell_type": "code",
   "execution_count": 76,
   "metadata": {},
   "outputs": [
    {
     "name": "stdout",
     "output_type": "stream",
     "text": [
      "a =  [[1 2 3]\n",
      " [4 5 6]\n",
      " [7 8 9]]\n",
      "b =  [[10 11 12]\n",
      " [13 14 15]\n",
      " [16 17 18]]\n",
      "c =  [[ 1  2  3]\n",
      " [ 4  5  6]\n",
      " [ 7  8  9]\n",
      " [10 11 12]\n",
      " [13 14 15]\n",
      " [16 17 18]]\n",
      "sum =  171\n",
      "d =  [[ 84  90  96]\n",
      " [201 216 231]\n",
      " [318 342 366]]\n"
     ]
    }
   ],
   "source": [
    "a=np.arange(1,10).reshape(3,3)\n",
    "b=np.arange(10,19).reshape(3,3)\n",
    "print(\"a = \", a)\n",
    "print(\"b = \", b)\n",
    "\n",
    "c=np.vstack((a,b)) #vertical stack\n",
    "print(\"c = \", c)\n",
    "\n",
    "sum=np.sum(c) #matrix sum\n",
    "print(\"sum = \", sum)\n",
    "\n",
    "d=np.dot(a,b) #matrix multiplication\n",
    "print(\"d = \", d)\n",
    "\n"
   ]
  },
  {
   "cell_type": "markdown",
   "metadata": {},
   "source": [
    "# Extension"
   ]
  },
  {
   "cell_type": "markdown",
   "metadata": {},
   "source": [
    "**Task 1 - Create the following pattern without hardcoding. \n",
    "Use only NumPy functions \n",
    " array(1,1,1,2,2,2,3,3,3,1,2,3,1,2,3,1,2,3)**"
   ]
  },
  {
   "cell_type": "code",
   "execution_count": 101,
   "metadata": {},
   "outputs": [
    {
     "name": "stdout",
     "output_type": "stream",
     "text": [
      "a=  [1 2 3]\n",
      "b=  [1. 1. 1.]\n",
      "c=  [2. 2. 2.]\n",
      "d=  [3. 3. 3.]\n",
      "e =  [1. 1. 1. 2. 2. 2. 3. 3. 3. 1. 2. 3. 1. 2. 3. 1. 2. 3.]\n"
     ]
    }
   ],
   "source": [
    "a=np.arange(1,4)\n",
    "print(\"a= \", a)\n",
    "\n",
    "b=np.ones(3)\n",
    "print(\"b= \", b)\n",
    "\n",
    "c=b*2\n",
    "print(\"c= \", c)\n",
    "\n",
    "d=b*3\n",
    "print(\"d= \", d)\n",
    "\n",
    "e=np.hstack((b,c,d,a,a,a)) \n",
    "print(\"e = \", e)\n",
    "\n"
   ]
  },
  {
   "cell_type": "markdown",
   "metadata": {},
   "source": [
    "**Task 2 - In two arrays a ( 1,2,3,4,5) and b ( 4,5,6,7,8,9) remove all repeating\n",
    "items present in array b**"
   ]
  },
  {
   "cell_type": "code",
   "execution_count": 112,
   "metadata": {},
   "outputs": [
    {
     "name": "stdout",
     "output_type": "stream",
     "text": [
      "a=  [1 2 3 4 5]\n",
      "b=  [4 5 6 7 8 9]\n",
      "new b =  [6 7 8 9]\n"
     ]
    }
   ],
   "source": [
    "a=np.arange(1,6)\n",
    "b=np.arange(4,10)\n",
    "c=np.hstack((a,b))\n",
    "d=np.unique(c)\n",
    "\n",
    "print(\"a= \", a)\n",
    "print(\"b= \", b)\n",
    "\n",
    "new_b=d[5:]\n",
    "print(\"new b = \", new_b)\n"
   ]
  },
  {
   "cell_type": "markdown",
   "metadata": {},
   "source": [
    "**Task 3 - Get all items between 5 and 10 from a and b and sum them together**"
   ]
  },
  {
   "cell_type": "code",
   "execution_count": 115,
   "metadata": {},
   "outputs": [
    {
     "name": "stdout",
     "output_type": "stream",
     "text": [
      "a=  [1 2 3 4 5]\n",
      "b=  [4 5 6 7 8 9]\n",
      "a+b =  [1 2 3 4 5 4 5 6 7 8 9]\n",
      "items between 5 and 10 =  [6 7 8 9]\n",
      "sum =  30\n"
     ]
    }
   ],
   "source": [
    "print(\"a= \", a)\n",
    "print(\"b= \", b)\n",
    "print(\"a+b = \", c)\n",
    "print(\"items between 5 and 10 = \", new_b)\n",
    "e=np.sum(new_b)\n",
    "print(\"sum = \", e)"
   ]
  },
  {
   "cell_type": "code",
   "execution_count": null,
   "metadata": {},
   "outputs": [],
   "source": []
  }
 ],
 "metadata": {
  "kernelspec": {
   "display_name": "Python 3",
   "language": "python",
   "name": "python3"
  },
  "language_info": {
   "codemirror_mode": {
    "name": "ipython",
    "version": 3
   },
   "file_extension": ".py",
   "mimetype": "text/x-python",
   "name": "python",
   "nbconvert_exporter": "python",
   "pygments_lexer": "ipython3",
   "version": "3.8.5"
  }
 },
 "nbformat": 4,
 "nbformat_minor": 4
}
