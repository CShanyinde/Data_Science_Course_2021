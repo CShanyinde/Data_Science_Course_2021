{
 "cells": [
  {
   "cell_type": "code",
   "execution_count": 3,
   "metadata": {},
   "outputs": [
    {
     "name": "stdout",
     "output_type": "stream",
     "text": [
      "Operator Selection:\n",
      "Option A, addition: x+y\n",
      "Option B, subtraction: x-y\n",
      "Option C, division: x/y\n",
      "Option D, multiplication: x*y\n",
      "Option E, to the power of: x^y\n",
      "Option F, square root of: x^0.5\n",
      "Select your choice of operator:C\n",
      "Enter your first number, x= 3\n",
      "Enter your second number, y= 5\n",
      "Answer =  0.6\n"
     ]
    }
   ],
   "source": [
    "print(\"Operator Selection:\")\n",
    "print(\"Option A, addition: x+y\")\n",
    "print(\"Option B, subtraction: x-y\")\n",
    "print(\"Option C, division: x/y\")\n",
    "print(\"Option D, multiplication: x*y\")\n",
    "print(\"Option E, to the power of: x^y\")\n",
    "print(\"Option F, square root of: x^0.5\")\n",
    "operator=str(input(\"Select your choice of operator:\"))\n",
    "x=int(input(\"Enter your first number, x= \"))\n",
    "y=int(input(\"Enter your second number, y= \"))\n",
    "if operator==\"A\":\n",
    "    print(\"Answer = \", x+y)\n",
    "elif operator==\"B\":\n",
    "    print(\"Answer = \", x-y)\n",
    "elif operator==\"C\":\n",
    "    print(\"Answer = \",x/y)\n",
    "elif operator==\"D\":\n",
    "    print(\"Answer = \",x*y)\n",
    "elif operator==\"E\":\n",
    "    print(\"Answer = \",x**y)\n",
    "elif operator==\"F\":\n",
    "    print(\"Answer = \",x**0.5)\n",
    "else:\n",
    "    print(\"Selection is invalid, please try again.\")"
   ]
  },
  {
   "cell_type": "code",
   "execution_count": null,
   "metadata": {},
   "outputs": [],
   "source": []
  }
 ],
 "metadata": {
  "kernelspec": {
   "display_name": "Python 3",
   "language": "python",
   "name": "python3"
  },
  "language_info": {
   "codemirror_mode": {
    "name": "ipython",
    "version": 3
   },
   "file_extension": ".py",
   "mimetype": "text/x-python",
   "name": "python",
   "nbconvert_exporter": "python",
   "pygments_lexer": "ipython3",
   "version": "3.8.5"
  }
 },
 "nbformat": 4,
 "nbformat_minor": 4
}
