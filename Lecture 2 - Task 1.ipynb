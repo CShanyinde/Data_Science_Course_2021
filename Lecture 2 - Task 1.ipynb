{
 "cells": [
  {
   "cell_type": "markdown",
   "metadata": {},
   "source": [
    "# Lecture 2 - Task 1: Covid Risk Assessment"
   ]
  },
  {
   "cell_type": "code",
   "execution_count": 18,
   "metadata": {},
   "outputs": [
    {
     "name": "stdout",
     "output_type": "stream",
     "text": [
      "Have you taken a Covid test in the last 7 days, Y/N:Y\n",
      "Was it positive, Y/N:N\n",
      "Do you have a new continuous cough or fever, Y/N:Y\n",
      "High Risk\n",
      "High Risk\n"
     ]
    }
   ],
   "source": [
    "Q1='Have you taken a Covid test in the last 7 days, Y/N:'\n",
    "Q2='Was it positive, Y/N:'\n",
    "Q3='Do you have a new continuous cough or fever, Y/N:'\n",
    "Ans1=str(input(Q1))\n",
    "\n",
    "if Ans1==\"Y\":\n",
    "    Ans2=str(input(Q2))\n",
    "    if Ans2==\"Y\":\n",
    "        print(\"High Risk\")\n",
    "    else:\n",
    "        Ans3=str(input(Q3))\n",
    "        if Ans3==\"Y\":\n",
    "            print(\"High Risk\")\n",
    "        else:\n",
    "            print(\"Medium Risk\") \n",
    "else:\n",
    "    Ans3=str(input(Q3))\n",
    "if Ans3==\"Y\":\n",
    "    print(\"High Risk\")\n",
    "else:\n",
    "    print(\"Medium Risk\")"
   ]
  },
  {
   "cell_type": "code",
   "execution_count": null,
   "metadata": {},
   "outputs": [],
   "source": []
  }
 ],
 "metadata": {
  "kernelspec": {
   "display_name": "Python 3",
   "language": "python",
   "name": "python3"
  },
  "language_info": {
   "codemirror_mode": {
    "name": "ipython",
    "version": 3
   },
   "file_extension": ".py",
   "mimetype": "text/x-python",
   "name": "python",
   "nbconvert_exporter": "python",
   "pygments_lexer": "ipython3",
   "version": "3.8.5"
  }
 },
 "nbformat": 4,
 "nbformat_minor": 4
}
