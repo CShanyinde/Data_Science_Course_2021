{
 "cells": [
  {
   "cell_type": "markdown",
   "metadata": {},
   "source": [
    "**Task 2 - Write a program to ask a student for their percentage mark and convert this into a grade**"
   ]
  },
  {
   "cell_type": "code",
   "execution_count": 17,
   "metadata": {},
   "outputs": [
    {
     "name": "stdout",
     "output_type": "stream",
     "text": [
      "Input your percentage mark: 65\n",
      "Input your target grade:75\n",
      "Grade = C\n",
      "You are performing below your target grade, try harder.\n"
     ]
    }
   ],
   "source": [
    "def mark_grade(mark):\n",
    "    if percentage>=90:\n",
    "        print(\"Grade = A*\")\n",
    "    elif 80<=percentage<90:\n",
    "        print(\"Grade = A\")\n",
    "    elif 70<=percentage<80:\n",
    "        print(\"Grade = B\")\n",
    "    elif 60<=percentage<70:\n",
    "        print(\"Grade = C\")\n",
    "    elif percentage<60:\n",
    "        print(\"Grade = F\")\n",
    "    else:\n",
    "        print(\"Selection is invalid, please try again.\")\n",
    "\n",
    "\n",
    "percentage=int(input(\"Input your percentage mark: \"))\n",
    "\n",
    "def target_grade(mark):\n",
    "    if target<percentage:\n",
    "        print(\"You have exceeded your target grade, well done!\")\n",
    "    elif target==percentage:\n",
    "        print(\"You have met your target grade.\")\n",
    "    elif target>percentage:\n",
    "        print(\"You are performing below your target grade, try harder.\")\n",
    "    else:\n",
    "        print(\"Selection is invalid, please try again.\")\n",
    "        \n",
    "target=int(input(\"Input your target grade:\"))\n",
    "\n",
    "mark_grade(int(percentage))\n",
    "target_grade(int(target))\n"
   ]
  },
  {
   "cell_type": "code",
   "execution_count": null,
   "metadata": {},
   "outputs": [],
   "source": []
  }
 ],
 "metadata": {
  "kernelspec": {
   "display_name": "Python 3",
   "language": "python",
   "name": "python3"
  },
  "language_info": {
   "codemirror_mode": {
    "name": "ipython",
    "version": 3
   },
   "file_extension": ".py",
   "mimetype": "text/x-python",
   "name": "python",
   "nbconvert_exporter": "python",
   "pygments_lexer": "ipython3",
   "version": "3.8.5"
  }
 },
 "nbformat": 4,
 "nbformat_minor": 4
}
