{
 "cells": [
  {
   "cell_type": "code",
   "execution_count": 1,
   "metadata": {},
   "outputs": [
    {
     "name": "stdout",
     "output_type": "stream",
     "text": [
      "Hello, I'm Chama, your waitress for today. May I have your name please? Donna\n",
      "Hi Donna What is your favourite starter? Salad\n",
      "And your favourite main? Steak\n",
      "What of your favourite desert? Cheesecake\n",
      "And to drink? Water\n",
      "Your favourite meal is a...Salad starter. Followed by...Steak and...Cheesecake for desert, with a glass of...Water\n"
     ]
    }
   ],
   "source": [
    "cust_name=input(\"Hello, I'm Chama, your waitress for today. May I have your name please? \")\n",
    "starter=input(\"Hi \" + cust_name + \" What is your favourite starter? \")\n",
    "mains=input(\"And your favourite main? \")\n",
    "desert=input(\"What of your favourite desert? \")\n",
    "drink=input(\"And to drink? \")\n",
    "print(\"Your favourite meal is a...\" + starter + \" starter. Followed by...\" + mains + \" and...\" + desert + \" for desert, with a glass of...\" + drink)"
   ]
  },
  {
   "cell_type": "code",
   "execution_count": null,
   "metadata": {},
   "outputs": [],
   "source": []
  }
 ],
 "metadata": {
  "kernelspec": {
   "display_name": "Python 3",
   "language": "python",
   "name": "python3"
  },
  "language_info": {
   "codemirror_mode": {
    "name": "ipython",
    "version": 3
   },
   "file_extension": ".py",
   "mimetype": "text/x-python",
   "name": "python",
   "nbconvert_exporter": "python",
   "pygments_lexer": "ipython3",
   "version": "3.8.5"
  }
 },
 "nbformat": 4,
 "nbformat_minor": 4
}
