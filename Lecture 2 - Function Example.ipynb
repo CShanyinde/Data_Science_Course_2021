{
 "cells": [
  {
   "cell_type": "code",
   "execution_count": 5,
   "metadata": {},
   "outputs": [
    {
     "name": "stdout",
     "output_type": "stream",
     "text": [
      "Enter the first number\t:3\n",
      "Enter the second number\t:10\n",
      "The product of the numbers is \t:30\n"
     ]
    }
   ],
   "source": [
    "def product(num1, num2):\n",
    "    prod=num1*num2\n",
    "    print('The product of the numbers is \\t:'+str(prod))\n",
    "\n",
    "num1=int(input('Enter the first number\\t:'))\n",
    "num2=int(input('Enter the second number\\t:'))\n",
    "\n",
    "product(num1, num2)\n"
   ]
  },
  {
   "cell_type": "code",
   "execution_count": null,
   "metadata": {},
   "outputs": [],
   "source": []
  }
 ],
 "metadata": {
  "kernelspec": {
   "display_name": "Python 3",
   "language": "python",
   "name": "python3"
  },
  "language_info": {
   "codemirror_mode": {
    "name": "ipython",
    "version": 3
   },
   "file_extension": ".py",
   "mimetype": "text/x-python",
   "name": "python",
   "nbconvert_exporter": "python",
   "pygments_lexer": "ipython3",
   "version": "3.8.5"
  }
 },
 "nbformat": 4,
 "nbformat_minor": 4
}
