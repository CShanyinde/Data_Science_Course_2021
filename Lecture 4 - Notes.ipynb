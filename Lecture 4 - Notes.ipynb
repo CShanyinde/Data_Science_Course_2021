{
 "cells": [
  {
   "cell_type": "code",
   "execution_count": 3,
   "metadata": {},
   "outputs": [],
   "source": [
    "import pandas as pd"
   ]
  },
  {
   "cell_type": "code",
   "execution_count": 6,
   "metadata": {},
   "outputs": [
    {
     "name": "stdout",
     "output_type": "stream",
     "text": [
      "0            439\n",
      "1          98.54\n",
      "2    Hello World\n",
      "3     Sea Breeze\n",
      "4           -342\n",
      "dtype: object\n"
     ]
    }
   ],
   "source": [
    "#Series - 1-dimensional data structure\n",
    "myseries=pd.Series([439,98.54, 'Hello World', 'Sea Breeze', -342])\n",
    "print(myseries)"
   ]
  },
  {
   "cell_type": "code",
   "execution_count": 7,
   "metadata": {},
   "outputs": [
    {
     "name": "stdout",
     "output_type": "stream",
     "text": [
      "   CODE      PRODUCE      ORIGIN\n",
      "0     1      Avocado      Mexico\n",
      "1     2       Banana  Costa Rica\n",
      "2     3    Courgette      France\n",
      "3     4  Cauliflower          UK\n"
     ]
    }
   ],
   "source": [
    "#How to create a dataframe, a 2-dimensional tabular data structure\n",
    "#1.create dataframe\n",
    "inventory={\"CODE\":[1,2,3,4],\n",
    "          \"PRODUCE\": [\"Avocado\", \"Banana\",\"Courgette\", \"Cauliflower\"],\n",
    "          \"ORIGIN\": [\"Mexico\", \"Costa Rica\", \"France\", \"UK\"]}\n",
    "\n",
    "#2.create variable\n",
    "myframe=pd.DataFrame(inventory)\n",
    "\n",
    "#3.print variable\n",
    "print(myframe)"
   ]
  },
  {
   "cell_type": "code",
   "execution_count": 8,
   "metadata": {
    "scrolled": true
   },
   "outputs": [
    {
     "name": "stdout",
     "output_type": "stream",
     "text": [
      "    CODE      PRODUCE      ORIGIN\n",
      "AV     1      Avocado      Mexico\n",
      "BN     2       Banana  Costa Rica\n",
      "CG     3    Courgette      France\n",
      "CF     4  Cauliflower          UK\n"
     ]
    }
   ],
   "source": [
    "#create index of your choice\n",
    "myframe.index=[\"AV\", \"BN\", \"CG\", \"CF\"]\n",
    "print(myframe)"
   ]
  },
  {
   "cell_type": "code",
   "execution_count": 6,
   "metadata": {},
   "outputs": [],
   "source": [
    "#how to import data\n",
    "#read the csv file using pd.read_csv\n",
    "vetdata=pd.read_csv(\"vet_data.csv\")\n",
    "vetdata.drop([\"Unnamed: 6\"], axis=1, inplace=True) #get rid of unnamed columns, axis=1 for columns"
   ]
  },
  {
   "cell_type": "code",
   "execution_count": null,
   "metadata": {},
   "outputs": [],
   "source": [
    "#pulling data just from one column\n",
    "print(vertdata[[\"Pet_Name\"]]) #double brackets include column header\n",
    "print(vertdata[[\"Type\", \"Pet_Age\", \"Chipped\"]])#multiple data columns\n",
    "print(vetdata[0:4])#print the first 4 rows\n",
    "print(vetdata.iloc[1])#index loaction 1 - prints the entire row 1\n",
    "vetdata=pd.read_csv(\"\")\n",
    "print(vetdata.loc[[\"Smith\", \"Sorola\"]]) #print observatiosn for SMith and Sorola"
   ]
  },
  {
   "cell_type": "code",
   "execution_count": null,
   "metadata": {},
   "outputs": [],
   "source": []
  }
 ],
 "metadata": {
  "kernelspec": {
   "display_name": "Python 3",
   "language": "python",
   "name": "python3"
  },
  "language_info": {
   "codemirror_mode": {
    "name": "ipython",
    "version": 3
   },
   "file_extension": ".py",
   "mimetype": "text/x-python",
   "name": "python",
   "nbconvert_exporter": "python",
   "pygments_lexer": "ipython3",
   "version": "3.8.5"
  }
 },
 "nbformat": 4,
 "nbformat_minor": 4
}
