{
 "cells": [
  {
   "cell_type": "markdown",
   "metadata": {},
   "source": [
    "**Task 1 - Write a program that allows you to enter 4 numbers and stores them in a file called \"Numbers\"**"
   ]
  },
  {
   "cell_type": "code",
   "execution_count": 2,
   "metadata": {},
   "outputs": [],
   "source": [
    "my_file=open(\"Numbers.txt\", \"w\")\n",
    "my_file.write(\"3\")\n",
    "my_file.write(\"\\n\")\n",
    "my_file.write(\"45\")\n",
    "my_file.write(\"\\n\")\n",
    "my_file.close()"
   ]
  },
  {
   "cell_type": "code",
   "execution_count": 3,
   "metadata": {},
   "outputs": [],
   "source": [
    "my_file=open(\"Numbers.txt\", \"a\")\n",
    "my_file.write(\"83\")\n",
    "my_file.write(\"\\n\")\n",
    "my_file.write(\"21\")\n",
    "my_file.write(\"\\n\")\n",
    "my_file.close()"
   ]
  },
  {
   "cell_type": "code",
   "execution_count": 4,
   "metadata": {},
   "outputs": [
    {
     "name": "stdout",
     "output_type": "stream",
     "text": [
      "3,45,83,21,\n"
     ]
    }
   ],
   "source": [
    "with open (\"Numbers.txt\", \"r\") as myfile:\n",
    "    data = myfile.read().replace('\\n', ',')\n",
    "myfile.close()\n",
    "print(data)"
   ]
  },
  {
   "cell_type": "code",
   "execution_count": null,
   "metadata": {},
   "outputs": [],
   "source": []
  }
 ],
 "metadata": {
  "kernelspec": {
   "display_name": "Python 3",
   "language": "python",
   "name": "python3"
  },
  "language_info": {
   "codemirror_mode": {
    "name": "ipython",
    "version": 3
   },
   "file_extension": ".py",
   "mimetype": "text/x-python",
   "name": "python",
   "nbconvert_exporter": "python",
   "pygments_lexer": "ipython3",
   "version": "3.8.5"
  }
 },
 "nbformat": 4,
 "nbformat_minor": 4
}
