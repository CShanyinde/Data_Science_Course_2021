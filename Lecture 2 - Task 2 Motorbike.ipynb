{
 "cells": [
  {
   "cell_type": "code",
   "execution_count": 3,
   "metadata": {},
   "outputs": [
    {
     "name": "stdout",
     "output_type": "stream",
     "text": [
      "What is the original cost of the motorbike? £2000\n",
      "Enter first year: 2021\n",
      "Year value falls below £1000 =  2028 , Value = £ 956\n"
     ]
    }
   ],
   "source": [
    "def bike (i,y):\n",
    "    while i>1000:\n",
    "        i*=0.9\n",
    "        y+=1\n",
    "    print (\"Year value falls below £1000 = \", y, \", Value = £\",int(i))\n",
    "    \n",
    "i=int(input(\"What is the original cost of the motorbike? £\"))\n",
    "y=int(input(\"Enter first year: \")) \n",
    "\n",
    "bike(i,y)"
   ]
  },
  {
   "cell_type": "code",
   "execution_count": null,
   "metadata": {},
   "outputs": [],
   "source": []
  }
 ],
 "metadata": {
  "kernelspec": {
   "display_name": "Python 3",
   "language": "python",
   "name": "python3"
  },
  "language_info": {
   "codemirror_mode": {
    "name": "ipython",
    "version": 3
   },
   "file_extension": ".py",
   "mimetype": "text/x-python",
   "name": "python",
   "nbconvert_exporter": "python",
   "pygments_lexer": "ipython3",
   "version": "3.8.5"
  }
 },
 "nbformat": 4,
 "nbformat_minor": 4
}
